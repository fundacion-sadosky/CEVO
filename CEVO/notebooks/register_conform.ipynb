{
 "cells": [
  {
   "cell_type": "code",
   "execution_count": 1,
   "id": "a3f4270a-efdf-493b-8a62-933ce8b04187",
   "metadata": {
    "tags": []
   },
   "outputs": [
    {
     "name": "stdout",
     "output_type": "stream",
     "text": [
      "FLIRT version 6.0\n"
     ]
    }
   ],
   "source": [
    "import os\n",
    "\n",
    "\n",
    "fslpath = \"/home/amatys/fsl\"\n",
    "os.environ[\"FSLDIR\"] = fslpath\n",
    "os.environ[\"PATH\"] += os.pathsep + os.path.join(fslpath, 'bin')\n",
    "!. ${FSLDIR}/etc/fslconf/fsl.sh\n",
    "\n",
    "!flirt -version"
   ]
  },
  {
   "cell_type": "code",
   "execution_count": 5,
   "id": "f4288264-b733-4c0c-b9f9-1b60d275c420",
   "metadata": {
    "tags": []
   },
   "outputs": [],
   "source": [
    "def register_fsl(\n",
    "        moving_image,\n",
    "        fixed_image,\n",
    "        out_image=None,\n",
    "        mat_path=None,\n",
    "        return_command=False,\n",
    "        transformation=\"rigid\",\n",
    "        interp=\"nearestneighbour\",\n",
    "        overwrite=False,\n",
    "):\n",
    "    dof = 9  # 9 is affine\n",
    "    interp = \"nearestneighbour\" if interp in ['nearestneighbour', 'nearest'] \\\n",
    "        else \"trilinear\"\n",
    "\n",
    "    atlas_name = os.path.split(fixed_image)[1].split(\".\")[0]\n",
    "    mv_img_p, mv_img_n = os.path.split(moving_image)\n",
    "\n",
    "    out_dir = os.path.join(mv_img_p, atlas_name)\n",
    "    #veri_folder(out_dir)\n",
    "\n",
    "    out_image = (\n",
    "        os.path.join(out_dir, mv_img_n) if out_image is None else out_image\n",
    "    )\n",
    "\n",
    "    mat_path = (\n",
    "        os.path.join(out_dir, mv_img_n.replace(\".nii.gz\", \".mat\"))\n",
    "        if mat_path is None\n",
    "        else mat_path\n",
    "    )\n",
    "\n",
    "    command = (\n",
    "        'flirt -in \"{}\" '\n",
    "        '-ref \"{}\" '\n",
    "        '-out \"{}\" '\n",
    "        '-omat \"{}\" '\n",
    "        \"-bins 256 \"\n",
    "        \"-cost corratio \"\n",
    "        \"-searchrx -90 90 \"\n",
    "        \"-searchry -90 90 \"\n",
    "        \"-searchrz -90 90 \"\n",
    "        \"-dof {}  \"\n",
    "        \"-interp {}\".format(\n",
    "            moving_image, fixed_image, out_image, mat_path, dof, interp\n",
    "        )\n",
    "    )\n",
    "    if return_command:\n",
    "        return command\n",
    "\n",
    "    if os.path.exists(out_image) and not overwrite and os.path.getsize(\n",
    "            out_image) > 0:\n",
    "        print(\"\\n  The output file already exists (skipping).\")\n",
    "        return\n",
    "\n",
    "    os.environ[\"OMP_NUM_THREADS\"] = \"10\"\n",
    "    os.system(command)"
   ]
  },
  {
   "cell_type": "markdown",
   "id": "c811b30b-f006-4da0-954a-732c81c659fe",
   "metadata": {},
   "source": [
    "# Conform"
   ]
  },
  {
   "cell_type": "code",
   "execution_count": 1,
   "id": "56fda6fa-2402-4bef-a81d-9a1baf99b425",
   "metadata": {
    "tags": []
   },
   "outputs": [],
   "source": [
    "import nibabel as nib"
   ]
  },
  {
   "cell_type": "code",
   "execution_count": null,
   "metadata": {},
   "outputs": [],
   "source": [
    "nii_br = nib.load(\"\")\n",
    "nii = nib.load('')"
   ]
  },
  {
   "cell_type": "code",
   "execution_count": 3,
   "id": "d1aab5d0-423d-4016-90c8-e0b8d183024f",
   "metadata": {
    "tags": []
   },
   "outputs": [],
   "source": [
    "import nibabel.processing as nipro\n",
    "\n",
    "nii_proc = nipro.conform(nii , out_shape=nii_br.header.get_data_shape(), voxel_size=nii_br.header.get_zooms())"
   ]
  },
  {
   "cell_type": "code",
   "execution_count": 4,
   "id": "9cbb11a4-62c9-4126-83a8-c798c8c1a0cc",
   "metadata": {
    "tags": []
   },
   "outputs": [
    {
     "name": "stdout",
     "output_type": "stream",
     "text": [
      "(240, 240, 155)\n",
      "(1.0, 1.0, 1.0)\n"
     ]
    }
   ],
   "source": [
    "print(nii_proc.header.get_data_shape())\n",
    "print(nii_proc.header.get_zooms())"
   ]
  },
  {
   "cell_type": "code",
   "execution_count": null,
   "id": "5faf6454-c360-4291-a67b-62c3da6fdb01",
   "metadata": {
    "tags": []
   },
   "outputs": [],
   "source": [
    "import os\n",
    "import subprocess\n",
    "#import nibabel as nib\n",
    "\n",
    "def run_flirt_with_conform(input_dir):\n",
    "    input_files = []\n",
    "    output_dir = os.path.join(input_dir, \"output\")\n",
    "    os.makedirs(output_dir, exist_ok=True)\n",
    "\n",
    "    # Find input files\n",
    "    for root, _, files in os.walk(input_dir):\n",
    "        for file in files:\n",
    "            if file.endswith((\"0000.nii.gz\", \"0001.nii.gz\", \"0002.nii.gz\", \"0003.nii.gz\", \"seg.nii.gz\")):\n",
    "                input_files.append(os.path.join(root, file))\n",
    "\n",
    "    # Find the '0001.nii.gz' file and apply the conform\n",
    "    conformed_reference_file = None\n",
    "    for input_file in input_files:\n",
    "        if input_file.endswith('0001.nii.gz'):\n",
    "            base_name = os.path.splitext(os.path.basename(input_file))[0]\n",
    "            conformed_reference_file = os.path.join(output_dir, f\"{base_name}_new.nii.gz\")\n",
    "            img = nib.load(input_file)\n",
    "            conformed_img = nib.processing.conform(img, out_shape=(240, 240, 155), voxel_size=(1.0, 1.0, 1.0))\n",
    "            nib.save(conformed_img, conformed_reference_file)\n",
    "            print(f\"Processed: {input_file}\")\n",
    "            break\n",
    "\n",
    "    if conformed_reference_file is None:\n",
    "        print(\"No '0001.nii.gz' file found for reference.\")\n",
    "        return\n",
    "\n",
    "    # Run FLIRT using the conformed reference file\n",
    "    for input_file in input_files:\n",
    "        if input_file == conformed_reference_file:\n",
    "            continue  # Skip processing the conformed reference file\n",
    "\n",
    "        base_name = os.path.splitext(os.path.basename(input_file))[0]\n",
    "        output_file = os.path.join(output_dir, f\"{base_name}_new.nii.gz\")\n",
    "        mat_file = os.path.join(output_dir, f\"{base_name}_new.mat\")\n",
    "\n",
    "        if input_file.endswith('seg.nii.gz'):\n",
    "            interp = \"nearestneighbour\"\n",
    "        else:\n",
    "            interp = \"trilinear\"\n",
    "\n",
    "        if not input_file.endswith('0001.nii.gz'):\n",
    "            cmd = f\"flirt -in {input_file} -ref {conformed_reference_file} -out {output_file} -omat {mat_file} -dof 12 -cost mutualinfo -interp {interp}\"\n",
    "            subprocess.run(cmd, shell=True, check=True)\n",
    "\n",
    "        #cmd = f\"flirt -in {input_file} -ref {conformed_reference_file} -out {output_file} -omat {mat_file} -dof 12 -cost mutualinfo -interp {interp}\"\n",
    "        #subprocess.run(cmd, shell=True, check=True)\n",
    "        print(f\"Processed: {input_file}\")\n",
    "\n",
    "    print(\"All files processed successfully.\")\n",
    "\n",
    "# Usage example\n",
    "input_directory = \"\"\n",
    "run_flirt_with_conform(input_directory)"
   ]
  },
  {
   "cell_type": "markdown",
   "id": "27f03291-4945-4e57-85a8-8e1507070149",
   "metadata": {},
   "source": [
    "## OLD"
   ]
  },
  {
   "cell_type": "code",
   "execution_count": null,
   "id": "f2c3ba5d-f18e-4bf4-9ccb-60ed3de2010a",
   "metadata": {
    "tags": []
   },
   "outputs": [],
   "source": [
    "import os\n",
    "import subprocess\n",
    "import nibabel as nib\n",
    "\n",
    "def run_flirt_with_conform(input_dir):\n",
    "    input_files = []\n",
    "    output_dir = os.path.join(input_dir, \"output\")\n",
    "    os.makedirs(output_dir, exist_ok=True)\n",
    "\n",
    "    # Find input files\n",
    "    for root, _, files in os.walk(input_dir):\n",
    "        for file in files:\n",
    "            if file.endswith((\"0000.nii.gz\", \"0001.nii.gz\", \"0002.nii.gz\", \"0003.nii.gz\", \"seg.nii.gz\")):\n",
    "                input_files.append(os.path.join(root, file))\n",
    "\n",
    "    # Run flirt and apply conform for each input file\n",
    "    for input_file in input_files:\n",
    "        base_name = os.path.splitext(os.path.basename(input_file))[0]\n",
    "        output_file = os.path.join(output_dir, f\"{base_name}_new.nii.gz\")\n",
    "        mat_file = os.path.join(output_dir, f\"{base_name}_new.mat\")\n",
    "\n",
    "        if input_file.endswith('0001.nii.gz'):\n",
    "            # Apply conform directly without running FLIRT\n",
    "            img = nib.load(input_file)\n",
    "            conformed_img = nib.processing.conform(img, out_shape=(240, 240, 155), voxel_size=(1.0, 1.0, 1.0))\n",
    "            conformed_file = os.path.join(output_dir, f\"{base_name}_new.nii.gz\")\n",
    "            nib.save(conformed_img, conformed_file)\n",
    "            print(f\"Processed: {input_file}\")\n",
    "        else:\n",
    "            ref_file = input_file.replace('0000.nii.gz', '0001.nii.gz')\n",
    "            if ref_file == input_file:\n",
    "                ref_file = ref_file.replace('0001.nii.gz', '0000.nii.gz')\n",
    "\n",
    "            cmd = f\"flirt -in {input_file} -ref {ref_file} -out {output_file} -omat {mat_file} -dof 12 -cost mutualinfo -interp trilinear\"\n",
    "            subprocess.run(cmd, shell=True, check=True)\n",
    "\n",
    "            # Apply conform\n",
    "            img = nib.load(output_file)\n",
    "            conformed_img = nib.processing.conform(img, out_shape=(240, 240, 155), voxel_size=(1.0, 1.0, 1.0))\n",
    "            conformed_file = os.path.join(output_dir, f\"{base_name}_new.nii.gz\")\n",
    "            nib.save(conformed_img, conformed_file)\n",
    "\n",
    "            print(f\"Processed: {input_file}\")\n",
    "\n",
    "    print(\"All files processed successfully.\")\n",
    "\n",
    "# Usage example\n",
    "input_directory = \"\"\n",
    "run_flirt_with_conform(input_directory)"
   ]
  }
 ],
 "metadata": {
  "kernelspec": {
   "display_name": "Python 3 (ipykernel)",
   "language": "python",
   "name": "python3"
  },
  "language_info": {
   "codemirror_mode": {
    "name": "ipython",
    "version": 3
   },
   "file_extension": ".py",
   "mimetype": "text/x-python",
   "name": "python",
   "nbconvert_exporter": "python",
   "pygments_lexer": "ipython3",
   "version": "3.7.16"
  }
 },
 "nbformat": 4,
 "nbformat_minor": 5
}
